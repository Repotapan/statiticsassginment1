{
 "cells": [
  {
   "cell_type": "markdown",
   "id": "d7160b72-cd39-4398-80b8-2f24a3e6f5ec",
   "metadata": {},
   "source": [
    "Q1. What is Statistics?"
   ]
  },
  {
   "cell_type": "markdown",
   "id": "b4740b40-5ce6-44c7-b9f2-922ff6686a18",
   "metadata": {},
   "source": [
    "Statitics is the science of collecting,organizing,and analyzing the data."
   ]
  },
  {
   "cell_type": "markdown",
   "id": "043647cb-330d-4621-bf2e-b9d7be7d0022",
   "metadata": {},
   "source": [
    "Q2. Define the different types of statistics and give an example of when each type might be used?"
   ]
  },
  {
   "cell_type": "markdown",
   "id": "301e0c08-4f40-4757-a2bd-2d34698edc72",
   "metadata": {},
   "source": [
    "statitics are two types a) Descriptive statistics\n",
    "                         b) inferential statistics\n",
    "example-let's say there are 25 statistics classes at your college and you have collected heights of students in the class.\n",
    "Heights are recorded [175cm,178cm,180cm,200cm,450cm]\n",
    "Descriptive :\n",
    "what is the average height of the entire classroom?\n",
    "Inferential :\n",
    "Average the height of the student in classroom similar to what you expect in the entire college."
   ]
  },
  {
   "cell_type": "markdown",
   "id": "b1ab7fa1-0853-4a23-a824-c1618d602eb1",
   "metadata": {},
   "source": [
    "Q4. Categorise the following datasets with respect to quantitative and qualitative data types:\n",
    "(i) Grading in exam: A+, A, B+, B, C+, C, D, E\n",
    "(ii) Colour of mangoes: yellow, green, orange, red\n",
    "(iii) Height data of a class: [178.9, 179, 179.5, 176, 177.2, 178.3, 175.8,...]\n",
    "(iv) Number of mangoes exported by a farm: [500, 600, 478, 672, ...]?"
   ]
  },
  {
   "cell_type": "markdown",
   "id": "47c49972-cac4-4433-ad45-7c696306e95c",
   "metadata": {},
   "source": [
    "(i)Qualitative data types\n",
    "(ii)Qualitative data types\n",
    "(iii)Quantitative data types\n",
    "(iv)Quantitative data types"
   ]
  },
  {
   "cell_type": "markdown",
   "id": "fa3ef3e0-9072-454a-979c-271d78f4799b",
   "metadata": {},
   "source": [
    "Q5. Explain the concept of levels of measurement and give an example of a variable for each level?"
   ]
  },
  {
   "cell_type": "markdown",
   "id": "07de2845-8a8f-4848-9527-808597060a13",
   "metadata": {},
   "source": [
    "There are four types of scale level of measurement \n",
    "1)Nominal scale data\n",
    "2)Ordinal scale data\n",
    "3)Interval scale data\n",
    "4)Ratio scale data \n",
    "1)Nominal scale data: a) Qualitative(categorical)\n",
    "b)order does not matter\n",
    "2)Ordinal scale data:a)Ranking is important\n",
    "b)order matter\n",
    "c)Difference cannot be measured\n",
    "3)Interval scale data:a)The order matter\n",
    "b)Difference can be measured\n",
    "c)Ratio can not be measured\n",
    "d)No '0' starting point \n",
    "4)Ratio scale data:a)Th \n"
   ]
  },
  {
   "cell_type": "markdown",
   "id": "0a8f3d4f-91ca-4cab-b7e5-395e71e3a708",
   "metadata": {},
   "source": [
    "Q6. Why is it important to understand the level of measurement when analyzing data? Provide an\n",
    "example to illustrate your answer?"
   ]
  },
  {
   "cell_type": "markdown",
   "id": "0fd739d9-4899-4811-84b8-2a80f50b3ef9",
   "metadata": {},
   "source": [
    "Understanding the level of measurement of data is crucial because it determines the statistical methods and techniques that can be used to analyze the data accurately. Different levels of measurement have different properties, and analyzing data at the wrong level can lead to misleading conclusions and inaccurate predictions.\n",
    "\n",
    "For example, consider a study that measures the satisfaction levels of customers at a restaurant. The data collected may be of nominal, ordinal, or interval/ratio level depending on the measurement scale used. If the data is nominal, the satisfaction levels are simply labeled, and no order or numerical values are assigned to them. In this case, analyzing the data using mean or median values would be inappropriate since the data lacks any quantitative values.\n",
    "\n",
    "On the other hand, if the data is measured on an ordinal scale, it may have categories with a specific order, but the differences between categories are not necessarily equal. For example, if customers are asked to rate their satisfaction levels as \"very satisfied,\" \"satisfied,\" \"neutral,\" \"dissatisfied,\" or \"very dissatisfied,\" the categories have a clear order but do not have equal intervals. In this case, calculating the mean of the responses may not be appropriate as it assumes equal intervals between categories.\n",
    "\n",
    "Lastly, if the data is measured on an interval/ratio scale, it has equal intervals and a true zero point, allowing for arithmetic operations such as addition and multiplication. For instance, if customers are asked to rate their satisfaction levels on a scale of 1 to 10, where 1 is \"very dissatisfied\" and 10 is \"very satisfied,\" the data is at an interval/ratio level. In this case, calculating the mean of the ratings would be appropriate as the differences between categories are equal."
   ]
  },
  {
   "cell_type": "markdown",
   "id": "eda6118c-7a9f-4831-a3b2-5854d8579ded",
   "metadata": {},
   "source": [
    "Q7. How nominal data type is different from ordinal data type?"
   ]
  },
  {
   "cell_type": "markdown",
   "id": "6e586c38-d6d2-4777-b8b7-055825a1e3f3",
   "metadata": {},
   "source": [
    "In nominal data type order does not matter and it's categorical but the ordinal data type order is matter and here rank is important."
   ]
  },
  {
   "cell_type": "markdown",
   "id": "411435d2-f7f0-4eb7-8961-c8a35d17b560",
   "metadata": {},
   "source": [
    "Q8. Which type of plot can be used to display data in terms of range?"
   ]
  },
  {
   "cell_type": "markdown",
   "id": "bbfcb154-834b-4348-b4d6-8c3ffb94112e",
   "metadata": {},
   "source": [
    "A box plot, also known as a box-and-whisker plot, is a type of plot that is commonly used to display data in terms of range."
   ]
  },
  {
   "cell_type": "markdown",
   "id": "6a0abc40-9ec2-4211-a79e-552d634f23e0",
   "metadata": {},
   "source": [
    "Q9. Describe the difference between descriptive and inferential statistics. Give an example of each\n",
    "type of statistics and explain how they are used?"
   ]
  },
  {
   "cell_type": "markdown",
   "id": "c99f2777-b80e-4a4d-a5e8-83de646e13da",
   "metadata": {},
   "source": [
    "Descriptive statistics and inferential statistics are two branches of statistics that are used for different purposes.\n",
    "\n",
    "Descriptive statistics are used to summarize and describe the characteristics of a dataset. They provide a way to organize and communicate information about a dataset, including measures of central tendency, such as mean, median, and mode, and measures of variability, such as range and standard deviation. Descriptive statistics are used to provide a basic understanding of the data and to identify any patterns or relationships that may exist.\n",
    "\n",
    "For example, let's say we have data on the heights of a group of individuals. We can use descriptive statistics to calculate the mean height, the range of heights, and the standard deviation of the heights. These statistics provide a summary of the characteristics of the data, allowing us to describe the heights of the group of individuals in a meaningful way.\n",
    "\n",
    "In contrast, inferential statistics are used to make predictions or inferences about a population based on a sample of data. They allow us to draw conclusions about a population based on limited data. Inferential statistics use probability theory to make statements about the likelihood of an event occurring.\n",
    "\n",
    "For example, let's say we are interested in determining if the mean height of a population of individuals is significantly different from the mean height of another population. We can use inferential statistics, such as a t-test, to compare the means of the two populations and determine if the difference is statistically significant. In this case, the sample of data is used to make inferences about the population."
   ]
  },
  {
   "cell_type": "markdown",
   "id": "dd3edbc0-61f4-4bbd-9498-cc7df24e8bda",
   "metadata": {},
   "source": [
    "Q10. What are some common measures of central tendency and variability used in statistics? Explain\n",
    "how each measure can be used to describe a dataset?"
   ]
  },
  {
   "cell_type": "markdown",
   "id": "b2ae1ed3-ae69-4fb8-b081-e79d86dc5cdf",
   "metadata": {},
   "source": [
    "The common measures of central tendency are mean,median and mode."
   ]
  },
  {
   "cell_type": "code",
   "execution_count": 4,
   "id": "e4a78ad0-e76c-4eea-8493-e0f3f174db3f",
   "metadata": {},
   "outputs": [],
   "source": [
    "import numpy as np\n",
    "import seaborn as sns "
   ]
  },
  {
   "cell_type": "code",
   "execution_count": 5,
   "id": "ac72c39c-b0d0-4dc4-b97b-11f35e06fde0",
   "metadata": {},
   "outputs": [],
   "source": [
    "df=sns.load_dataset('tips')"
   ]
  },
  {
   "cell_type": "code",
   "execution_count": 6,
   "id": "0e9e7de9-974b-426d-b4f1-672cd1155d1a",
   "metadata": {},
   "outputs": [
    {
     "data": {
      "text/html": [
       "<div>\n",
       "<style scoped>\n",
       "    .dataframe tbody tr th:only-of-type {\n",
       "        vertical-align: middle;\n",
       "    }\n",
       "\n",
       "    .dataframe tbody tr th {\n",
       "        vertical-align: top;\n",
       "    }\n",
       "\n",
       "    .dataframe thead th {\n",
       "        text-align: right;\n",
       "    }\n",
       "</style>\n",
       "<table border=\"1\" class=\"dataframe\">\n",
       "  <thead>\n",
       "    <tr style=\"text-align: right;\">\n",
       "      <th></th>\n",
       "      <th>total_bill</th>\n",
       "      <th>tip</th>\n",
       "      <th>sex</th>\n",
       "      <th>smoker</th>\n",
       "      <th>day</th>\n",
       "      <th>time</th>\n",
       "      <th>size</th>\n",
       "    </tr>\n",
       "  </thead>\n",
       "  <tbody>\n",
       "    <tr>\n",
       "      <th>0</th>\n",
       "      <td>16.99</td>\n",
       "      <td>1.01</td>\n",
       "      <td>Female</td>\n",
       "      <td>No</td>\n",
       "      <td>Sun</td>\n",
       "      <td>Dinner</td>\n",
       "      <td>2</td>\n",
       "    </tr>\n",
       "    <tr>\n",
       "      <th>1</th>\n",
       "      <td>10.34</td>\n",
       "      <td>1.66</td>\n",
       "      <td>Male</td>\n",
       "      <td>No</td>\n",
       "      <td>Sun</td>\n",
       "      <td>Dinner</td>\n",
       "      <td>3</td>\n",
       "    </tr>\n",
       "    <tr>\n",
       "      <th>2</th>\n",
       "      <td>21.01</td>\n",
       "      <td>3.50</td>\n",
       "      <td>Male</td>\n",
       "      <td>No</td>\n",
       "      <td>Sun</td>\n",
       "      <td>Dinner</td>\n",
       "      <td>3</td>\n",
       "    </tr>\n",
       "    <tr>\n",
       "      <th>3</th>\n",
       "      <td>23.68</td>\n",
       "      <td>3.31</td>\n",
       "      <td>Male</td>\n",
       "      <td>No</td>\n",
       "      <td>Sun</td>\n",
       "      <td>Dinner</td>\n",
       "      <td>2</td>\n",
       "    </tr>\n",
       "    <tr>\n",
       "      <th>4</th>\n",
       "      <td>24.59</td>\n",
       "      <td>3.61</td>\n",
       "      <td>Female</td>\n",
       "      <td>No</td>\n",
       "      <td>Sun</td>\n",
       "      <td>Dinner</td>\n",
       "      <td>4</td>\n",
       "    </tr>\n",
       "  </tbody>\n",
       "</table>\n",
       "</div>"
      ],
      "text/plain": [
       "   total_bill   tip     sex smoker  day    time  size\n",
       "0       16.99  1.01  Female     No  Sun  Dinner     2\n",
       "1       10.34  1.66    Male     No  Sun  Dinner     3\n",
       "2       21.01  3.50    Male     No  Sun  Dinner     3\n",
       "3       23.68  3.31    Male     No  Sun  Dinner     2\n",
       "4       24.59  3.61  Female     No  Sun  Dinner     4"
      ]
     },
     "execution_count": 6,
     "metadata": {},
     "output_type": "execute_result"
    }
   ],
   "source": [
    "df.head()"
   ]
  },
  {
   "cell_type": "code",
   "execution_count": 7,
   "id": "89924244-c3fe-4fb1-82ae-6305c17ad90b",
   "metadata": {},
   "outputs": [
    {
     "data": {
      "text/plain": [
       "19.78594262295082"
      ]
     },
     "execution_count": 7,
     "metadata": {},
     "output_type": "execute_result"
    }
   ],
   "source": [
    "np.mean(df['total_bill'])"
   ]
  },
  {
   "cell_type": "code",
   "execution_count": 8,
   "id": "1b2dbf04-d09a-4ad6-a1ba-89b49141e635",
   "metadata": {},
   "outputs": [
    {
     "data": {
      "text/plain": [
       "2.9"
      ]
     },
     "execution_count": 8,
     "metadata": {},
     "output_type": "execute_result"
    }
   ],
   "source": [
    "np.median(df['tip'])"
   ]
  },
  {
   "cell_type": "code",
   "execution_count": 9,
   "id": "14d12536-71a1-4798-ac5a-c2e0648489ea",
   "metadata": {},
   "outputs": [],
   "source": [
    "from scipy import stats as st"
   ]
  },
  {
   "cell_type": "code",
   "execution_count": 10,
   "id": "820874cc-9d89-4d29-b919-9a36e6705375",
   "metadata": {},
   "outputs": [
    {
     "name": "stderr",
     "output_type": "stream",
     "text": [
      "/tmp/ipykernel_95/879264782.py:1: FutureWarning: Unlike other reduction functions (e.g. `skew`, `kurtosis`), the default behavior of `mode` typically preserves the axis it acts along. In SciPy 1.11.0, this behavior will change: the default value of `keepdims` will become False, the `axis` over which the statistic is taken will be eliminated, and the value None will no longer be accepted. Set `keepdims` to True or False to avoid this warning.\n",
      "  st.mode(df['size'])\n"
     ]
    },
    {
     "data": {
      "text/plain": [
       "ModeResult(mode=array([2]), count=array([156]))"
      ]
     },
     "execution_count": 10,
     "metadata": {},
     "output_type": "execute_result"
    }
   ],
   "source": [
    "st.mode(df['size'])"
   ]
  },
  {
   "cell_type": "code",
   "execution_count": null,
   "id": "af871c4b-8384-4b4c-a3a5-35badba8abe1",
   "metadata": {},
   "outputs": [],
   "source": []
  }
 ],
 "metadata": {
  "kernelspec": {
   "display_name": "Python 3 (ipykernel)",
   "language": "python",
   "name": "python3"
  },
  "language_info": {
   "codemirror_mode": {
    "name": "ipython",
    "version": 3
   },
   "file_extension": ".py",
   "mimetype": "text/x-python",
   "name": "python",
   "nbconvert_exporter": "python",
   "pygments_lexer": "ipython3",
   "version": "3.10.8"
  }
 },
 "nbformat": 4,
 "nbformat_minor": 5
}
